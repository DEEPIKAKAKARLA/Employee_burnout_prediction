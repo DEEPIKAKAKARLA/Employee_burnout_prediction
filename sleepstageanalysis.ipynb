{
  "cells": [
    {
      "cell_type": "code",
      "execution_count": null,
      "metadata": {
        "colab": {
          "base_uri": "https://localhost:8080/"
        },
        "id": "tmWgC9pRyxEE",
        "outputId": "f891c4e5-5169-4054-8651-6f0c1c11a440"
      },
      "outputs": [
        {
          "name": "stdout",
          "output_type": "stream",
          "text": [
            "Epoch 1/20\n",
            "8/8 [==============================] - 9s 424ms/step - loss: 1.5865 - accuracy: 0.4839 - val_loss: 1.5546 - val_accuracy: 0.4583\n",
            "Epoch 2/20\n",
            "8/8 [==============================] - 0s 39ms/step - loss: 1.5322 - accuracy: 0.5161 - val_loss: 1.4789 - val_accuracy: 0.5417\n",
            "Epoch 3/20\n",
            "8/8 [==============================] - 0s 27ms/step - loss: 1.4450 - accuracy: 0.6882 - val_loss: 1.3459 - val_accuracy: 0.6667\n",
            "Epoch 4/20\n",
            "8/8 [==============================] - 0s 29ms/step - loss: 1.2854 - accuracy: 0.7097 - val_loss: 1.1153 - val_accuracy: 0.6250\n",
            "Epoch 5/20\n",
            "8/8 [==============================] - 0s 41ms/step - loss: 1.0205 - accuracy: 0.7204 - val_loss: 0.8226 - val_accuracy: 0.7083\n",
            "Epoch 6/20\n",
            "8/8 [==============================] - 0s 33ms/step - loss: 0.7238 - accuracy: 0.7312 - val_loss: 0.5657 - val_accuracy: 0.7083\n",
            "Epoch 7/20\n",
            "8/8 [==============================] - 0s 37ms/step - loss: 0.5037 - accuracy: 0.7312 - val_loss: 0.4154 - val_accuracy: 0.7083\n",
            "Epoch 8/20\n",
            "8/8 [==============================] - 0s 46ms/step - loss: 0.4029 - accuracy: 0.7312 - val_loss: 0.3760 - val_accuracy: 0.7500\n",
            "Epoch 9/20\n",
            "8/8 [==============================] - 0s 39ms/step - loss: 0.3817 - accuracy: 0.7742 - val_loss: 0.3593 - val_accuracy: 0.7917\n",
            "Epoch 10/20\n",
            "8/8 [==============================] - 0s 43ms/step - loss: 0.3780 - accuracy: 0.7312 - val_loss: 0.3571 - val_accuracy: 0.7500\n",
            "Epoch 11/20\n",
            "8/8 [==============================] - 0s 50ms/step - loss: 0.3613 - accuracy: 0.7634 - val_loss: 0.3486 - val_accuracy: 0.7917\n",
            "Epoch 12/20\n",
            "8/8 [==============================] - 0s 36ms/step - loss: 0.3582 - accuracy: 0.7312 - val_loss: 0.3532 - val_accuracy: 0.7500\n",
            "Epoch 13/20\n",
            "8/8 [==============================] - 0s 39ms/step - loss: 0.3550 - accuracy: 0.7097 - val_loss: 0.3448 - val_accuracy: 0.7917\n",
            "Epoch 14/20\n",
            "8/8 [==============================] - 0s 41ms/step - loss: 0.3628 - accuracy: 0.6774 - val_loss: 0.3405 - val_accuracy: 0.8750\n",
            "Epoch 15/20\n",
            "8/8 [==============================] - 0s 51ms/step - loss: 0.3539 - accuracy: 0.8172 - val_loss: 0.3357 - val_accuracy: 0.7917\n",
            "Epoch 16/20\n",
            "8/8 [==============================] - 1s 93ms/step - loss: 0.3572 - accuracy: 0.7097 - val_loss: 0.3484 - val_accuracy: 0.7083\n",
            "Epoch 17/20\n",
            "8/8 [==============================] - 1s 71ms/step - loss: 0.3447 - accuracy: 0.7742 - val_loss: 0.3307 - val_accuracy: 0.7917\n",
            "Epoch 18/20\n",
            "8/8 [==============================] - 0s 30ms/step - loss: 0.3435 - accuracy: 0.8172 - val_loss: 0.3315 - val_accuracy: 0.8750\n",
            "Epoch 19/20\n",
            "8/8 [==============================] - 0s 34ms/step - loss: 0.3368 - accuracy: 0.8172 - val_loss: 0.3251 - val_accuracy: 0.8333\n",
            "Epoch 20/20\n",
            "8/8 [==============================] - 0s 25ms/step - loss: 0.3460 - accuracy: 0.7312 - val_loss: 0.3290 - val_accuracy: 0.8750\n",
            "Test loss: 0.3290, Test accuracy: 0.8750\n"
          ]
        }
      ],
      "source": [
        "import numpy as np\n",
        "import pandas as pd\n",
        "import tensorflow as tf\n",
        "from sklearn.preprocessing import LabelEncoder, StandardScaler\n",
        "from tensorflow.keras.layers import Input, Conv1D, LSTM, Dense, Dropout\n",
        "from tensorflow.keras.models import Model\n",
        "\n",
        "# Load data\n",
        "data = pd.read_csv('/content/sleepstage.csv')\n",
        "X = data.drop(columns=['Stage','Time']).values\n",
        "\n",
        "y = data['Stage'].values\n",
        "\n",
        "# Preprocessing\n",
        "scaler = StandardScaler()\n",
        "#print(X)\n",
        "X = scaler.fit_transform(X)\n",
        "encoder = LabelEncoder()\n",
        "y = encoder.fit_transform(y)\n",
        "from sklearn.model_selection import train_test_split\n",
        "# Train-test split\n",
        "X_train, X_test, y_train, y_test = train_test_split(X, y,stratify=y, test_size=0.2)\n",
        "\n",
        "# Model architecture\n",
        "inputs = Input(shape=(X.shape[1], 1))\n",
        "x = Conv1D(64, 3, activation='relu')(inputs)\n",
        "x = LSTM(64, return_sequences=True)(x)\n",
        "x = LSTM(64)(x)\n",
        "x = Dense(64, activation='relu')(x)\n",
        "outputs = Dense(5, activation='softmax')(x)\n",
        "model = Model(inputs=inputs, outputs=outputs)\n",
        "\n",
        "# Model compilation\n",
        "model.compile(loss='sparse_categorical_crossentropy', optimizer='adam', metrics=['accuracy'])\n",
        "\n",
        "# Model training\n",
        "model.fit(X_train, y_train, epochs=20, batch_size=12, validation_data=(X_test, y_test))\n",
        "\n",
        "# Model evaluation\n",
        "loss, accuracy = model.evaluate(X_test, y_test, verbose=0)\n",
        "print(f'Test loss: {loss:.4f}, Test accuracy: {accuracy:.4f}')\n"
      ]
    },
    {
      "cell_type": "code",
      "execution_count": null,
      "metadata": {
        "colab": {
          "base_uri": "https://localhost:8080/"
        },
        "id": "KVEpqc0Y7oXn",
        "outputId": "c318b95d-8708-43f1-c6af-de5d533028fb"
      },
      "outputs": [
        {
          "name": "stdout",
          "output_type": "stream",
          "text": [
            "[0 0 0 0 0 0 0 0 0 0 0 0 0 0 0 0 0 0 0 0 0 0 0 0 0 0 0 0 0 0 0 0 1 1 1 1 1\n",
            " 1 1 1 1 1 1 1 1 1 1 1 1 1 1 1 1 1 1 1 1 1 1 1 1 1 1 1 3 3 3 3 3 3 3 3 3 3\n",
            " 3 3 3 3 3 3 3 3 3 3 3 3 3 3 3 3 3 3 2 2 2 2 2 2 2 2 2 2 2 2 2 2 2 2 2 2 2\n",
            " 2 2 2 2 2 2]\n"
          ]
        }
      ],
      "source": [
        "print(y)"
      ]
    },
    {
      "cell_type": "code",
      "execution_count": null,
      "metadata": {
        "id": "4f5DKZdZ70XT"
      },
      "outputs": [],
      "source": [
        "from keras.models import load_model\n",
        "\n",
        "model.save('model1.h5')\n",
        "\n",
        "model1 = load_model('model1.h5')"
      ]
    },
    {
      "cell_type": "code",
      "execution_count": null,
      "metadata": {
        "id": "POwYjF0c7TwK"
      },
      "outputs": [],
      "source": []
    }
  ],
  "metadata": {
    "colab": {
      "provenance": []
    },
    "kernelspec": {
      "display_name": "Python 3",
      "name": "python3"
    },
    "language_info": {
      "name": "python"
    }
  },
  "nbformat": 4,
  "nbformat_minor": 0
}
